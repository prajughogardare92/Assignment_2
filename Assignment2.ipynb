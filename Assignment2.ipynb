{
 "cells": [
  {
   "cell_type": "code",
   "execution_count": 1,
   "metadata": {},
   "outputs": [
    {
     "name": "stdout",
     "output_type": "stream",
     "text": [
      "enter your number4\n",
      "number2\n",
      "number3\n",
      "number4\n",
      "number5\n",
      "list is : [2, 3, 4, 5]\n",
      "14\n",
      "[1, 5, 7, 11, 13, 17, 19, 23, 25, 29, 31, 35, 37, 41, 43, 47, 49, 53, 55, 59, 61, 65, 67, 71, 73, 77, 79, 83, 85, 89, 91, 95, 97]\n"
     ]
    }
   ],
   "source": [
    "import functools as ft\n",
    "p=[]\n",
    "n=int(input(\"enter your number\"))\n",
    "\n",
    "for i in range(0,n):\n",
    "    num=int(input(\"number\"))\n",
    "    p.append(num)\n",
    "\n",
    "print(\"list is :\",p)\n",
    "print(ft.reduce(lambda x,y:x+y,p))\n",
    "\n",
    "myfilter=list((filter(lambda x: x%2!=0 and x%3!=0 , range(1,100))))\n",
    "print(myfilter)"
   ]
  },
  {
   "cell_type": "code",
   "execution_count": 2,
   "metadata": {},
   "outputs": [
    {
     "name": "stdout",
     "output_type": "stream",
     "text": [
      "['A', 'D', 'G', 'R', 'T', 'E']\n",
      "['x', 'xx', 'xxx', 'xxxx', 'y', 'yy', 'yyy', 'yyyy', 'y', 'yy', 'yyy', 'yyyy']\n",
      "['x', 'y', 'y', 'xx', 'yy', 'yy', 'xxx', 'yyy', 'yyy', 'xxxx', 'yyyy', 'yyyy']\n",
      "[[2], [3], [4], [3], [4], [5], [4], [5], [6]]\n",
      "[[[2], [3], [4], [5]], [[3], [4], [5], [6]], [[4], [5], [6], [7]], [[5], [6], [7], [8]]]\n",
      "[(1, 1), (2, 1), (3, 1), (1, 2), (2, 2), (3, 2), (1, 3), (2, 3), (3, 3)]\n"
     ]
    }
   ],
   "source": [
    "h=[]\n",
    "for p in 'ADGRTE':\n",
    "    h.append(p)\n",
    "print(h)\n",
    "\n",
    "list=['x','y','y']\n",
    "result=[i*num for i in list for num in range (1,5)]\n",
    "print(result)\n",
    "\n",
    "list1=['x','y','y']\n",
    "result1=[i*num for num in range (1,5) for i in list]\n",
    "print(result1)\n",
    "\n",
    "list2=[2,3,4]\n",
    "result2=[[i+num] for i in list2 for num in range(0,3)]\n",
    "print(result2)\n",
    "\n",
    "list3=[2,3,4,5]\n",
    "result3=[[[i+num] for i in list3] for num in range (0,4)]\n",
    "print(result3)\n",
    "\n",
    "list4=[1,2,3]\n",
    "result4 = [(b,a) for a in list4 for b in list4]\n",
    "print(result4)"
   ]
  },
  {
   "cell_type": "code",
   "execution_count": 3,
   "metadata": {},
   "outputs": [
    {
     "name": "stdout",
     "output_type": "stream",
     "text": [
      "Bestfriends\n"
     ]
    }
   ],
   "source": [
    "def find_longest_word(words_list):\n",
    "    word_len = []\n",
    "    for n in words_list:\n",
    "        word_len.append((len(n), n))\n",
    "    word_len.sort()\n",
    "    return word_len[-1][1]\n",
    "\n",
    "print(find_longest_word([\"Kedar\", \"Prajakta\", \"Bestfriends\"]))\n"
   ]
  },
  {
   "cell_type": "code",
   "execution_count": 5,
   "metadata": {},
   "outputs": [
    {
     "name": "stdout",
     "output_type": "stream",
     "text": [
      "['quick', 'brown', 'jumps', 'over', 'lazy']\n"
     ]
    }
   ],
   "source": [
    "def long_words(n, str):  \n",
    "    word_len = []\n",
    "    txt = str.split(\" \")\n",
    "    for x in txt:  \n",
    "        if len(x) > n:  \n",
    "            word_len.append(x)  \n",
    "    return word_len   \n",
    "print(long_words(3, \"The quick brown fox jumps over the lazy dog\"))"
   ]
  },
  {
   "cell_type": "code",
   "execution_count": null,
   "metadata": {},
   "outputs": [],
   "source": [
    "class Triangle:\n",
    " \n",
    "    def __init__(self,a,b,c):\n",
    "        self.a = float(a)\n",
    "        self.b = float(b)\n",
    "        self.c = float(c)\n",
    " \n",
    "    def area(self):\n",
    "        s=(self.a + self.b + self.c)/2\n",
    "        return((s*(s-self.a)*(s-self.b)*(s-self.c))**0.5)\n",
    " \n",
    "a=input(\"Enter the value of a = \")\n",
    "b=input(\"Enter the value of b = \")\n",
    "c=input(\"Enter the value of c = \")\n",
    "t = Triangle(a, b, c)\n",
    "print({}.format(t.area()))\n"
   ]
  },
  {
   "cell_type": "code",
   "execution_count": 6,
   "metadata": {},
   "outputs": [],
   "source": [
    "def map_to_lengths_for(words):\n",
    "    lengths = []\n",
    "    for word in words:\n",
    "        lengths.append(len(word))\n",
    "    return lengths"
   ]
  },
  {
   "cell_type": "code",
   "execution_count": 7,
   "metadata": {},
   "outputs": [],
   "source": [
    "def vowel(l):\n",
    "    Vowels=(\"a\",\"o\",\"i\",\"u\",\"e\",\"A\",\"I\",\"O\",\"E\",\"U\")\n",
    "    if l in Vowels:\n",
    "        print(\"It is a vowel\")\n",
    "    else:\n",
    "        print(\"it is not vowel\")"
   ]
  },
  {
   "cell_type": "code",
   "execution_count": null,
   "metadata": {},
   "outputs": [],
   "source": []
  }
 ],
 "metadata": {
  "kernelspec": {
   "display_name": "Python 3",
   "language": "python",
   "name": "python3"
  },
  "language_info": {
   "codemirror_mode": {
    "name": "ipython",
    "version": 3
   },
   "file_extension": ".py",
   "mimetype": "text/x-python",
   "name": "python",
   "nbconvert_exporter": "python",
   "pygments_lexer": "ipython3",
   "version": "3.7.4"
  }
 },
 "nbformat": 4,
 "nbformat_minor": 2
}
